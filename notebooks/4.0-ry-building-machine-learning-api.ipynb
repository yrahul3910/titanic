{
 "cells": [
  {
   "cell_type": "markdown",
   "metadata": {},
   "source": [
    "## Hello World using Flask"
   ]
  },
  {
   "cell_type": "code",
   "execution_count": 1,
   "metadata": {
    "collapsed": true
   },
   "outputs": [],
   "source": [
    "import os\n",
    "script_file = os.path.join(os.path.pardir, \"src\", \"models\", \"hello_world_api.py\")"
   ]
  },
  {
   "cell_type": "code",
   "execution_count": 2,
   "metadata": {
    "collapsed": false
   },
   "outputs": [
    {
     "name": "stdout",
     "output_type": "stream",
     "text": [
      "Writing ..\\src\\models\\hello_world_api.py\n"
     ]
    }
   ],
   "source": [
    "%%writefile $script_file\n",
    "from flask import Flask, request\n",
    "\n",
    "app = Flask(__name__)\n",
    "\n",
    "@app.route(\"/api\", methods=[\"POST\"])\n",
    "def say_hello():\n",
    "    data = request.get_json(force=True)\n",
    "    name = data[\"name\"]\n",
    "    return \"Hello, {0}\".format(name)\n",
    "\n",
    "if __name__ == \"__main__\":\n",
    "    app.run(port=9001, debug=True)"
   ]
  },
  {
   "cell_type": "code",
   "execution_count": 3,
   "metadata": {
    "collapsed": true
   },
   "outputs": [],
   "source": [
    "import json\n",
    "import requests"
   ]
  },
  {
   "cell_type": "code",
   "execution_count": 4,
   "metadata": {
    "collapsed": true
   },
   "outputs": [],
   "source": [
    "url = \"http://localhost:9001/api\"\n",
    "data = json.dumps({\"name\": \"Rahul\"})\n",
    "r = requests.post(url, data)"
   ]
  },
  {
   "cell_type": "code",
   "execution_count": 5,
   "metadata": {
    "collapsed": false
   },
   "outputs": [
    {
     "name": "stdout",
     "output_type": "stream",
     "text": [
      "Hello, Rahul\n"
     ]
    }
   ],
   "source": [
    "print(r.text)"
   ]
  },
  {
   "cell_type": "markdown",
   "metadata": {},
   "source": [
    "## ML API"
   ]
  },
  {
   "cell_type": "code",
   "execution_count": 6,
   "metadata": {
    "collapsed": true
   },
   "outputs": [],
   "source": [
    "ml_api_file = os.path.join(os.path.pardir, \"src\", \"models\", \"ml_api.py\")"
   ]
  },
  {
   "cell_type": "code",
   "execution_count": 14,
   "metadata": {
    "collapsed": false
   },
   "outputs": [
    {
     "name": "stdout",
     "output_type": "stream",
     "text": [
      "Overwriting ..\\src\\models\\ml_api.py\n"
     ]
    }
   ],
   "source": [
    "%%writefile $ml_api_file\n",
    "from flask import Flask, request\n",
    "import pandas as pd\n",
    "import numpy as np\n",
    "import pickle\n",
    "import json\n",
    "import os\n",
    "\n",
    "app = Flask(__name__)\n",
    "\n",
    "# Load model and scaler\n",
    "model_path = os.path.join(os.path.pardir, os.path.pardir, \"models\")\n",
    "model_file = os.path.join(model_path, \"lr_model.pkl\")\n",
    "scaler_file = os.path.join(model_path, \"lr_scaler.pkl\")\n",
    "\n",
    "scaler = pickle.load(open(scaler_file, \"rb\"))\n",
    "model = pickle.load(open(model_file, \"rb\"))\n",
    "\n",
    "columns = [\"Age\", \"Fare\", \"FamilySize\",\n",
    "       \"IsMother\", \"IsMale\", \"Deck_A\", \"Deck_B\", \"Deck_C\", \"Deck_D\", \n",
    "       \"Deck_E\", \"Deck_F\", \"Deck_G\", \"Deck_Z\", \"Pclass_1\", \"Pclass_2\", \n",
    "       \"Pclass_3\", \"Title_Lady\", \"Title_Master\", \"Title_Miss\", \"Title_Mr\", \n",
    "       \"Title_Mrs\", \"Title_Officer\", \"Title_Sir\", \"Fare_Bin_Very_Low\", \n",
    "       \"Fare_Bin_Low\", \"Fare_Bin_High\", \"Fare_Bin_Very_High\", \"Embarked_C\", \n",
    "       \"Embarked_Q\", \"Embarked_S\", \"AgeState_Adult\", \"AgeState_Child\"]\n",
    "\n",
    "@app.route(\"/api\", methods=[\"POST\"])\n",
    "def make_prediction():\n",
    "    # Read JSON from the request, convert to JSON string\n",
    "    data = json.dumps(request.get_json(force=True))\n",
    "    \n",
    "    # Create Pandas DataFrame\n",
    "    df = pd.read_json(data)\n",
    "    \n",
    "    # Extract PassengerId\n",
    "    pids = df[\"PassengerId\"].ravel()\n",
    "    \n",
    "    X = df[columns].as_matrix().astype(\"float\")\n",
    "    X_scaled = scaler.transform(X)\n",
    "    \n",
    "    predictions = model.predict(X_scaled)\n",
    "    df_response = pd.DataFrame({\"PassengerId\": pids, \"Predicted\": predictions})\n",
    "    \n",
    "    return df_response.to_json()\n",
    "\n",
    "if __name__ == \"__main__\":\n",
    "    app.run(port=9001, debug=True)"
   ]
  },
  {
   "cell_type": "markdown",
   "metadata": {},
   "source": [
    "### Invoking ML API"
   ]
  },
  {
   "cell_type": "code",
   "execution_count": 8,
   "metadata": {
    "collapsed": true
   },
   "outputs": [],
   "source": [
    "import os\n",
    "import pandas as pd"
   ]
  },
  {
   "cell_type": "code",
   "execution_count": 9,
   "metadata": {
    "collapsed": true
   },
   "outputs": [],
   "source": [
    "processed_data_path = os.path.join(os.path.pardir, \"data\", \"processed\")\n",
    "train_file_path = os.path.join(processed_data_path, \"train.csv\")\n",
    "train_df = pd.read_csv(train_file_path)"
   ]
  },
  {
   "cell_type": "code",
   "execution_count": 10,
   "metadata": {
    "collapsed": true
   },
   "outputs": [],
   "source": [
    "survived_passengers = train_df[train_df.Survived == 1][:5]"
   ]
  },
  {
   "cell_type": "code",
   "execution_count": 11,
   "metadata": {
    "collapsed": false
   },
   "outputs": [
    {
     "data": {
      "text/html": [
       "<div>\n",
       "<table border=\"1\" class=\"dataframe\">\n",
       "  <thead>\n",
       "    <tr style=\"text-align: right;\">\n",
       "      <th></th>\n",
       "      <th>PassengerId</th>\n",
       "      <th>Age</th>\n",
       "      <th>Fare</th>\n",
       "      <th>FamilySize</th>\n",
       "      <th>IsMother</th>\n",
       "      <th>IsMale</th>\n",
       "      <th>Deck_A</th>\n",
       "      <th>Deck_B</th>\n",
       "      <th>Deck_C</th>\n",
       "      <th>Deck_D</th>\n",
       "      <th>...</th>\n",
       "      <th>Fare_Bin_Very_Low</th>\n",
       "      <th>Fare_Bin_Low</th>\n",
       "      <th>Fare_Bin_High</th>\n",
       "      <th>Fare_Bin_Very_High</th>\n",
       "      <th>Embarked_C</th>\n",
       "      <th>Embarked_Q</th>\n",
       "      <th>Embarked_S</th>\n",
       "      <th>AgeState_Adult</th>\n",
       "      <th>AgeState_Child</th>\n",
       "      <th>Survived</th>\n",
       "    </tr>\n",
       "  </thead>\n",
       "  <tbody>\n",
       "    <tr>\n",
       "      <th>1</th>\n",
       "      <td>2</td>\n",
       "      <td>38</td>\n",
       "      <td>71.2833</td>\n",
       "      <td>2</td>\n",
       "      <td>0</td>\n",
       "      <td>0</td>\n",
       "      <td>0</td>\n",
       "      <td>0</td>\n",
       "      <td>1</td>\n",
       "      <td>0</td>\n",
       "      <td>...</td>\n",
       "      <td>0</td>\n",
       "      <td>0</td>\n",
       "      <td>0</td>\n",
       "      <td>1</td>\n",
       "      <td>1</td>\n",
       "      <td>0</td>\n",
       "      <td>0</td>\n",
       "      <td>1</td>\n",
       "      <td>0</td>\n",
       "      <td>1</td>\n",
       "    </tr>\n",
       "    <tr>\n",
       "      <th>2</th>\n",
       "      <td>3</td>\n",
       "      <td>26</td>\n",
       "      <td>7.9250</td>\n",
       "      <td>1</td>\n",
       "      <td>0</td>\n",
       "      <td>0</td>\n",
       "      <td>0</td>\n",
       "      <td>0</td>\n",
       "      <td>0</td>\n",
       "      <td>0</td>\n",
       "      <td>...</td>\n",
       "      <td>0</td>\n",
       "      <td>1</td>\n",
       "      <td>0</td>\n",
       "      <td>0</td>\n",
       "      <td>0</td>\n",
       "      <td>0</td>\n",
       "      <td>1</td>\n",
       "      <td>1</td>\n",
       "      <td>0</td>\n",
       "      <td>1</td>\n",
       "    </tr>\n",
       "    <tr>\n",
       "      <th>3</th>\n",
       "      <td>4</td>\n",
       "      <td>35</td>\n",
       "      <td>53.1000</td>\n",
       "      <td>2</td>\n",
       "      <td>0</td>\n",
       "      <td>0</td>\n",
       "      <td>0</td>\n",
       "      <td>0</td>\n",
       "      <td>1</td>\n",
       "      <td>0</td>\n",
       "      <td>...</td>\n",
       "      <td>0</td>\n",
       "      <td>0</td>\n",
       "      <td>0</td>\n",
       "      <td>1</td>\n",
       "      <td>0</td>\n",
       "      <td>0</td>\n",
       "      <td>1</td>\n",
       "      <td>1</td>\n",
       "      <td>0</td>\n",
       "      <td>1</td>\n",
       "    </tr>\n",
       "    <tr>\n",
       "      <th>8</th>\n",
       "      <td>9</td>\n",
       "      <td>27</td>\n",
       "      <td>11.1333</td>\n",
       "      <td>3</td>\n",
       "      <td>1</td>\n",
       "      <td>0</td>\n",
       "      <td>0</td>\n",
       "      <td>0</td>\n",
       "      <td>0</td>\n",
       "      <td>0</td>\n",
       "      <td>...</td>\n",
       "      <td>0</td>\n",
       "      <td>1</td>\n",
       "      <td>0</td>\n",
       "      <td>0</td>\n",
       "      <td>0</td>\n",
       "      <td>0</td>\n",
       "      <td>1</td>\n",
       "      <td>1</td>\n",
       "      <td>0</td>\n",
       "      <td>1</td>\n",
       "    </tr>\n",
       "    <tr>\n",
       "      <th>9</th>\n",
       "      <td>10</td>\n",
       "      <td>14</td>\n",
       "      <td>30.0708</td>\n",
       "      <td>2</td>\n",
       "      <td>0</td>\n",
       "      <td>0</td>\n",
       "      <td>0</td>\n",
       "      <td>0</td>\n",
       "      <td>0</td>\n",
       "      <td>0</td>\n",
       "      <td>...</td>\n",
       "      <td>0</td>\n",
       "      <td>0</td>\n",
       "      <td>1</td>\n",
       "      <td>0</td>\n",
       "      <td>1</td>\n",
       "      <td>0</td>\n",
       "      <td>0</td>\n",
       "      <td>0</td>\n",
       "      <td>1</td>\n",
       "      <td>1</td>\n",
       "    </tr>\n",
       "  </tbody>\n",
       "</table>\n",
       "<p>5 rows × 34 columns</p>\n",
       "</div>"
      ],
      "text/plain": [
       "   PassengerId  Age     Fare  FamilySize  IsMother  IsMale  Deck_A  Deck_B  \\\n",
       "1            2   38  71.2833           2         0       0       0       0   \n",
       "2            3   26   7.9250           1         0       0       0       0   \n",
       "3            4   35  53.1000           2         0       0       0       0   \n",
       "8            9   27  11.1333           3         1       0       0       0   \n",
       "9           10   14  30.0708           2         0       0       0       0   \n",
       "\n",
       "   Deck_C  Deck_D    ...     Fare_Bin_Very_Low  Fare_Bin_Low  Fare_Bin_High  \\\n",
       "1       1       0    ...                     0             0              0   \n",
       "2       0       0    ...                     0             1              0   \n",
       "3       1       0    ...                     0             0              0   \n",
       "8       0       0    ...                     0             1              0   \n",
       "9       0       0    ...                     0             0              1   \n",
       "\n",
       "   Fare_Bin_Very_High  Embarked_C  Embarked_Q  Embarked_S  AgeState_Adult  \\\n",
       "1                   1           1           0           0               1   \n",
       "2                   0           0           0           1               1   \n",
       "3                   1           0           0           1               1   \n",
       "8                   0           0           0           1               1   \n",
       "9                   0           1           0           0               0   \n",
       "\n",
       "   AgeState_Child  Survived  \n",
       "1               0         1  \n",
       "2               0         1  \n",
       "3               0         1  \n",
       "8               0         1  \n",
       "9               1         1  \n",
       "\n",
       "[5 rows x 34 columns]"
      ]
     },
     "execution_count": 11,
     "metadata": {},
     "output_type": "execute_result"
    }
   ],
   "source": [
    "survived_passengers"
   ]
  },
  {
   "cell_type": "code",
   "execution_count": 15,
   "metadata": {
    "collapsed": true
   },
   "outputs": [],
   "source": [
    "import requests\n",
    "\n",
    "def make_api_req(data):\n",
    "    url = \"http://localhost:9001/api\"\n",
    "    r = requests.post(url, data)\n",
    "    return r.json()"
   ]
  },
  {
   "cell_type": "code",
   "execution_count": 16,
   "metadata": {
    "collapsed": false
   },
   "outputs": [
    {
     "data": {
      "text/plain": [
       "{'PassengerId': {'0': 2, '1': 3, '2': 4, '3': 9, '4': 10},\n",
       " 'Predicted': {'0': 1, '1': 1, '2': 1, '3': 1, '4': 1}}"
      ]
     },
     "execution_count": 16,
     "metadata": {},
     "output_type": "execute_result"
    }
   ],
   "source": [
    "make_api_req(survived_passengers.to_json())"
   ]
  },
  {
   "cell_type": "code",
   "execution_count": 17,
   "metadata": {
    "collapsed": false
   },
   "outputs": [
    {
     "data": {
      "text/html": [
       "<div>\n",
       "<table border=\"1\" class=\"dataframe\">\n",
       "  <thead>\n",
       "    <tr style=\"text-align: right;\">\n",
       "      <th></th>\n",
       "      <th>PassengerId</th>\n",
       "      <th>Predicted</th>\n",
       "    </tr>\n",
       "  </thead>\n",
       "  <tbody>\n",
       "    <tr>\n",
       "      <th>0</th>\n",
       "      <td>1</td>\n",
       "      <td>0</td>\n",
       "    </tr>\n",
       "    <tr>\n",
       "      <th>1</th>\n",
       "      <td>2</td>\n",
       "      <td>1</td>\n",
       "    </tr>\n",
       "    <tr>\n",
       "      <th>10</th>\n",
       "      <td>108</td>\n",
       "      <td>0</td>\n",
       "    </tr>\n",
       "    <tr>\n",
       "      <th>100</th>\n",
       "      <td>190</td>\n",
       "      <td>0</td>\n",
       "    </tr>\n",
       "    <tr>\n",
       "      <th>101</th>\n",
       "      <td>20</td>\n",
       "      <td>1</td>\n",
       "    </tr>\n",
       "  </tbody>\n",
       "</table>\n",
       "</div>"
      ],
      "text/plain": [
       "     PassengerId  Predicted\n",
       "0              1          0\n",
       "1              2          1\n",
       "10           108          0\n",
       "100          190          0\n",
       "101           20          1"
      ]
     },
     "execution_count": 17,
     "metadata": {},
     "output_type": "execute_result"
    }
   ],
   "source": [
    "result = make_api_req(train_df.to_json())\n",
    "df_result = pd.read_json(json.dumps(result))\n",
    "df_result.head()"
   ]
  },
  {
   "cell_type": "code",
   "execution_count": null,
   "metadata": {
    "collapsed": true
   },
   "outputs": [],
   "source": []
  }
 ],
 "metadata": {
  "kernelspec": {
   "display_name": "Python 3",
   "language": "python",
   "name": "python3"
  },
  "language_info": {
   "codemirror_mode": {
    "name": "ipython",
    "version": 3
   },
   "file_extension": ".py",
   "mimetype": "text/x-python",
   "name": "python",
   "nbconvert_exporter": "python",
   "pygments_lexer": "ipython3",
   "version": "3.5.1"
  }
 },
 "nbformat": 4,
 "nbformat_minor": 0
}

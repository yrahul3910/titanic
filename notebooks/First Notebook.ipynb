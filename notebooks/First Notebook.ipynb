{
 "cells": [
  {
   "cell_type": "code",
   "execution_count": 2,
   "metadata": {
    "collapsed": false
   },
   "outputs": [
    {
     "name": "stdout",
     "output_type": "stream",
     "text": [
      "Hello, World!\n"
     ]
    }
   ],
   "source": [
    "print(\"Hello, World!\")"
   ]
  },
  {
   "cell_type": "markdown",
   "metadata": {},
   "source": [
    "# First notebook"
   ]
  },
  {
   "cell_type": "code",
   "execution_count": 3,
   "metadata": {
    "collapsed": false
   },
   "outputs": [
    {
     "data": {
      "text/plain": [
       "4"
      ]
     },
     "execution_count": 3,
     "metadata": {},
     "output_type": "execute_result"
    }
   ],
   "source": [
    "2 + 2"
   ]
  },
  {
   "cell_type": "code",
   "execution_count": 4,
   "metadata": {
    "collapsed": true
   },
   "outputs": [],
   "source": [
    "x = 3"
   ]
  },
  {
   "cell_type": "code",
   "execution_count": 5,
   "metadata": {
    "collapsed": false
   },
   "outputs": [
    {
     "name": "stdout",
     "output_type": "stream",
     "text": [
      "3\n"
     ]
    }
   ],
   "source": [
    "print(x)"
   ]
  },
  {
   "cell_type": "code",
   "execution_count": 6,
   "metadata": {
    "collapsed": true
   },
   "outputs": [],
   "source": [
    "def print_hello(name):\n",
    "    print(\"Hello, \" + name)\n",
    "    "
   ]
  },
  {
   "cell_type": "code",
   "execution_count": 7,
   "metadata": {
    "collapsed": false
   },
   "outputs": [
    {
     "name": "stdout",
     "output_type": "stream",
     "text": [
      "Hello, Rahul\n"
     ]
    }
   ],
   "source": [
    "print_hello(\"Rahul\")"
   ]
  },
  {
   "cell_type": "code",
   "execution_count": 9,
   "metadata": {
    "collapsed": false
   },
   "outputs": [],
   "source": [
    "import numpy as np\n",
    "np.random.seed(10)\n",
    "\n",
    "true_weights = np.array([-3.4, 2.5], dtype=float)\n",
    "total_count = 1000\n",
    "\n",
    "X = np.linspace(0, 10, total_count)\n",
    "noise = np.random.normal(size=total_count)\n",
    "Y = -3.4 + 2.5 * X + noise\n",
    "\n",
    "N = 100\n",
    "samples = list(zip(Y, X))\n",
    "np.random.shuffle(samples)\n",
    "samples = samples[:N]\n",
    "samples_output = [sample[0] for sample in samples]\n",
    "samples_input = [sample[1] for sample in samples]"
   ]
  },
  {
   "cell_type": "code",
   "execution_count": 10,
   "metadata": {
    "collapsed": false
   },
   "outputs": [
    {
     "name": "stderr",
     "output_type": "stream",
     "text": [
      "Python 3.4.3 :: Anaconda 2.3.0 (32-bit)\n"
     ]
    }
   ],
   "source": [
    "! python --version"
   ]
  },
  {
   "cell_type": "code",
   "execution_count": 11,
   "metadata": {
    "collapsed": false
   },
   "outputs": [
    {
     "name": "stdout",
     "output_type": "stream",
     "text": [
      "[5.1051051051051051, 1.3213213213213213, 8.2982982982982989, 7.8578578578578577, 9.7497497497497498, 5.3953953953953953, 0.90090090090090091, 1.0510510510510511, 1.8118118118118118, 2.9429429429429428]\n"
     ]
    }
   ],
   "source": [
    "print(samples_input[:10])"
   ]
  },
  {
   "cell_type": "code",
   "execution_count": 12,
   "metadata": {
    "collapsed": false
   },
   "outputs": [
    {
     "name": "stdout",
     "output_type": "stream",
     "text": [
      "[9.0403992705237997, -0.7366593009251946, 19.464337181385048, 15.859183742763227, 20.666281982609799, 10.621977509937793, -0.04003951296509789, -1.1725107243581008, 0.45058275490948885, 5.0425844310134522]\n"
     ]
    }
   ],
   "source": [
    "print(samples_output[:10])"
   ]
  },
  {
   "cell_type": "code",
   "execution_count": 13,
   "metadata": {
    "collapsed": false
   },
   "outputs": [
    {
     "name": "stdout",
     "output_type": "stream",
     "text": [
      "[(9.0403992705237997, 5.1051051051051051), (-0.7366593009251946, 1.3213213213213213), (19.464337181385048, 8.2982982982982989), (15.859183742763227, 7.8578578578578577), (20.666281982609799, 9.7497497497497498), (10.621977509937793, 5.3953953953953953), (-0.04003951296509789, 0.90090090090090091), (-1.1725107243581008, 1.0510510510510511), (0.45058275490948885, 1.8118118118118118), (5.0425844310134522, 2.9429429429429428)]\n"
     ]
    }
   ],
   "source": [
    "print(samples[:10])"
   ]
  },
  {
   "cell_type": "code",
   "execution_count": null,
   "metadata": {
    "collapsed": true
   },
   "outputs": [],
   "source": []
  }
 ],
 "metadata": {
  "kernelspec": {
   "display_name": "Python 3",
   "language": "python",
   "name": "python3"
  },
  "language_info": {
   "codemirror_mode": {
    "name": "ipython",
    "version": 3
   },
   "file_extension": ".py",
   "mimetype": "text/x-python",
   "name": "python",
   "nbconvert_exporter": "python",
   "pygments_lexer": "ipython3",
   "version": "3.5.1"
  }
 },
 "nbformat": 4,
 "nbformat_minor": 0
}

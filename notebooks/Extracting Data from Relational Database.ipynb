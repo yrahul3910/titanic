{
 "cells": [
  {
   "cell_type": "markdown",
   "metadata": {},
   "source": [
    "# SQLite database"
   ]
  },
  {
   "cell_type": "code",
   "execution_count": 2,
   "metadata": {
    "collapsed": true
   },
   "outputs": [],
   "source": [
    "import sqlite3"
   ]
  },
  {
   "cell_type": "code",
   "execution_count": 3,
   "metadata": {
    "collapsed": true
   },
   "outputs": [],
   "source": [
    "connection = sqlite3.connect(\"classroom.db\")"
   ]
  },
  {
   "cell_type": "code",
   "execution_count": 5,
   "metadata": {
    "collapsed": false
   },
   "outputs": [],
   "source": [
    "cursor = connection.cursor()\n",
    "create_table = \"\"\"\n",
    "                CREATE TABLE students (\n",
    "                    id         INTEGER PRIMARY KEY,\n",
    "                    name       VARCHAR(20) NOT NULL,\n",
    "                    gender     CHAR(1) NOT NULL,\n",
    "                    phy_marks  INTEGER NOT NULL,\n",
    "                    chem_marks INTEGER NOT NULL,\n",
    "                    math_marks INTEGER NOT NULL\n",
    "                );\n",
    "                \"\"\"\n",
    "cursor.execute(create_table)\n",
    "connection.commit()\n",
    "connection.close()"
   ]
  },
  {
   "cell_type": "code",
   "execution_count": 9,
   "metadata": {
    "collapsed": false
   },
   "outputs": [
    {
     "name": "stdout",
     "output_type": "stream",
     "text": [
      "INSERT INTO students VALUES(\"1\", \"Raj\", \"M\", \"70\", \"84\", \"92\")\n",
      "INSERT INTO students VALUES(\"2\", \"Poonam\", \"F\", \"87\", \"67\", \"93\")\n",
      "INSERT INTO students VALUES(\"3\", \"Nikhil\", \"M\", \"65\", \"83\", \"90\")\n",
      "INSERT INTO students VALUES(\"4\", \"Rahul\", \"M\", \"83\", \"76\", \"89\")\n"
     ]
    }
   ],
   "source": [
    "data = [(1, \"Raj\", \"M\", 70, 84, 92),\n",
    "        (2, \"Poonam\", \"F\", 87, 67, 93),\n",
    "        (3, \"Nikhil\", \"M\", 65, 83, 90),\n",
    "        (4, \"Rahul\", \"M\", 83, 76, 89)]\n",
    "connection = sqlite3.connect(\"classroom.db\");\n",
    "cursor = connection.cursor();\n",
    "for student in data:\n",
    "    student = ['\"' + str(x) + '\"' for x in student]\n",
    "    insert_stmt = \"INSERT INTO students VALUES({0})\".format(', '.join(student))\n",
    "    cursor.execute(insert_stmt)\n",
    "connection.commit()\n",
    "connection.close()"
   ]
  },
  {
   "cell_type": "code",
   "execution_count": 10,
   "metadata": {
    "collapsed": false
   },
   "outputs": [
    {
     "name": "stdout",
     "output_type": "stream",
     "text": [
      "(1, 'Raj', 'M', 70, 84, 92)\n",
      "(2, 'Poonam', 'F', 87, 67, 93)\n",
      "(3, 'Nikhil', 'M', 65, 83, 90)\n",
      "(4, 'Rahul', 'M', 83, 76, 89)\n"
     ]
    }
   ],
   "source": [
    "connection = sqlite3.connect(\"classroom.db\");\n",
    "cursor = connection.cursor();\n",
    "select_stmt = \"SELECT * FROM students\"\n",
    "cursor.execute(select_stmt)\n",
    "result = cursor.fetchall()\n",
    "for row in result:\n",
    "    print(row)\n",
    "connection.close()"
   ]
  },
  {
   "cell_type": "markdown",
   "metadata": {},
   "source": [
    "## MySQL"
   ]
  },
  {
   "cell_type": "code",
   "execution_count": 13,
   "metadata": {
    "collapsed": false
   },
   "outputs": [
    {
     "name": "stdout",
     "output_type": "stream",
     "text": [
      "\n",
      "\n",
      "Package plan for installation in environment C:\\Users\\yrahu\\Anaconda3-3.4:\n",
      "\n",
      "The following packages will be UPDATED:\n",
      "\n",
      "    conda-env: 2.6.0-0 --> 2.6.0-h36134e3_1\n",
      "\n"
     ]
    }
   ],
   "source": [
    "!conda install -y -q pymysql"
   ]
  },
  {
   "cell_type": "code",
   "execution_count": 14,
   "metadata": {
    "collapsed": false
   },
   "outputs": [
    {
     "ename": "ImportError",
     "evalue": "No module named 'pymysql'",
     "output_type": "error",
     "traceback": [
      "\u001b[1;31m---------------------------------------------------------------------------\u001b[0m",
      "\u001b[1;31mImportError\u001b[0m                               Traceback (most recent call last)",
      "\u001b[1;32m<ipython-input-14-a4103d9b2333>\u001b[0m in \u001b[0;36m<module>\u001b[1;34m()\u001b[0m\n\u001b[1;32m----> 1\u001b[1;33m \u001b[1;32mimport\u001b[0m \u001b[0mpymysql\u001b[0m\u001b[1;33m\u001b[0m\u001b[0m\n\u001b[0m",
      "\u001b[1;31mImportError\u001b[0m: No module named 'pymysql'"
     ]
    }
   ],
   "source": [
    "import pymysql"
   ]
  },
  {
   "cell_type": "code",
   "execution_count": null,
   "metadata": {
    "collapsed": true
   },
   "outputs": [],
   "source": [
    "!C:\\Users\\yrahu\\Anaconda3\\python -m pip install pymysql"
   ]
  },
  {
   "cell_type": "code",
   "execution_count": 1,
   "metadata": {
    "collapsed": true
   },
   "outputs": [],
   "source": [
    "import pymysql"
   ]
  },
  {
   "cell_type": "code",
   "execution_count": 3,
   "metadata": {
    "collapsed": false
   },
   "outputs": [],
   "source": [
    "connection = pymysql.connect(host='127.0.0.1', user='root', passwd='thirtytwo', db='test', port=3306)"
   ]
  },
  {
   "cell_type": "code",
   "execution_count": 4,
   "metadata": {
    "collapsed": true
   },
   "outputs": [],
   "source": [
    "cursor = connection.cursor()\n",
    "create_table = \"\"\"\n",
    "                CREATE TABLE students (\n",
    "                    id         INTEGER PRIMARY KEY,\n",
    "                    name       VARCHAR(20) NOT NULL,\n",
    "                    gender     CHAR(1) NOT NULL,\n",
    "                    phy_marks  INTEGER NOT NULL,\n",
    "                    chem_marks INTEGER NOT NULL,\n",
    "                    math_marks INTEGER NOT NULL\n",
    "                );\n",
    "                \"\"\"\n",
    "cursor.execute(create_table)\n",
    "connection.commit()\n",
    "connection.close()"
   ]
  },
  {
   "cell_type": "code",
   "execution_count": 5,
   "metadata": {
    "collapsed": true
   },
   "outputs": [],
   "source": [
    "connection = pymysql.connect(host='127.0.0.1', user='root', passwd='thirtytwo', db='test', port=3306)"
   ]
  },
  {
   "cell_type": "code",
   "execution_count": 6,
   "metadata": {
    "collapsed": true
   },
   "outputs": [],
   "source": [
    "data = [(1, \"Raj\", \"M\", 70, 84, 92),\n",
    "        (2, \"Poonam\", \"F\", 87, 67, 93),\n",
    "        (3, \"Nikhil\", \"M\", 65, 83, 90),\n",
    "        (4, \"Rahul\", \"M\", 83, 76, 89)]\n",
    "cursor = connection.cursor();\n",
    "for student in data:\n",
    "    student = ['\"' + str(x) + '\"' for x in student]\n",
    "    insert_stmt = \"INSERT INTO students VALUES({0})\".format(', '.join(student))\n",
    "    cursor.execute(insert_stmt)\n",
    "connection.commit()\n",
    "connection.close()"
   ]
  },
  {
   "cell_type": "code",
   "execution_count": 7,
   "metadata": {
    "collapsed": true
   },
   "outputs": [],
   "source": [
    "connection = pymysql.connect(host='127.0.0.1', user='root', passwd='thirtytwo', db='test', port=3306)"
   ]
  },
  {
   "cell_type": "code",
   "execution_count": 8,
   "metadata": {
    "collapsed": false
   },
   "outputs": [
    {
     "name": "stdout",
     "output_type": "stream",
     "text": [
      "(1, 'Raj', 'M', 70, 84, 92)\n",
      "(2, 'Poonam', 'F', 87, 67, 93)\n",
      "(3, 'Nikhil', 'M', 65, 83, 90)\n",
      "(4, 'Rahul', 'M', 83, 76, 89)\n"
     ]
    }
   ],
   "source": [
    "cursor = connection.cursor();\n",
    "select_stmt = \"SELECT * FROM students\"\n",
    "cursor.execute(select_stmt)\n",
    "result = cursor.fetchall()\n",
    "for row in result:\n",
    "    print(row)\n",
    "connection.close()"
   ]
  },
  {
   "cell_type": "code",
   "execution_count": 9,
   "metadata": {
    "collapsed": false
   },
   "outputs": [
    {
     "name": "stdout",
     "output_type": "stream",
     "text": [
      "Collecting pymssql\n",
      "  Downloading pymssql-2.1.3-cp35-cp35m-win_amd64.whl (367kB)\n",
      "Installing collected packages: pymssql\n",
      "Successfully installed pymssql-2.1.3\n"
     ]
    },
    {
     "name": "stderr",
     "output_type": "stream",
     "text": [
      "You are using pip version 8.1.0, however version 9.0.1 is available.\n",
      "You should consider upgrading via the 'python -m pip install --upgrade pip' command.\n"
     ]
    }
   ],
   "source": [
    "!C:\\Users\\yrahu\\Anaconda3\\python -m pip install pymssql"
   ]
  },
  {
   "cell_type": "code",
   "execution_count": 10,
   "metadata": {
    "collapsed": true
   },
   "outputs": [],
   "source": [
    "import pymssql"
   ]
  },
  {
   "cell_type": "code",
   "execution_count": 14,
   "metadata": {
    "collapsed": false
   },
   "outputs": [
    {
     "ename": "OperationalError",
     "evalue": "(20009, b'DB-Lib error message 20009, severity 9:\\nUnable to connect: Adaptive Server is unavailable or does not exist (127.0.0.1:1433)\\nNet-Lib error during Unknown error (10060)\\n')",
     "output_type": "error",
     "traceback": [
      "\u001b[1;31m---------------------------------------------------------------------------\u001b[0m",
      "\u001b[1;31mMSSQLDatabaseException\u001b[0m                    Traceback (most recent call last)",
      "\u001b[1;32mpymssql.pyx\u001b[0m in \u001b[0;36mpymssql.connect (pymssql.c:10734)\u001b[1;34m()\u001b[0m\n",
      "\u001b[1;32m_mssql.pyx\u001b[0m in \u001b[0;36m_mssql.connect (_mssql.c:21821)\u001b[1;34m()\u001b[0m\n",
      "\u001b[1;32m_mssql.pyx\u001b[0m in \u001b[0;36m_mssql.MSSQLConnection.__init__ (_mssql.c:6581)\u001b[1;34m()\u001b[0m\n",
      "\u001b[1;32m_mssql.pyx\u001b[0m in \u001b[0;36m_mssql.maybe_raise_MSSQLDatabaseException (_mssql.c:17524)\u001b[1;34m()\u001b[0m\n",
      "\u001b[1;31mMSSQLDatabaseException\u001b[0m: (20009, b'DB-Lib error message 20009, severity 9:\\nUnable to connect: Adaptive Server is unavailable or does not exist (127.0.0.1:1433)\\nNet-Lib error during Unknown error (10060)\\n')",
      "\nDuring handling of the above exception, another exception occurred:\n",
      "\u001b[1;31mOperationalError\u001b[0m                          Traceback (most recent call last)",
      "\u001b[1;32m<ipython-input-14-3080c011f42a>\u001b[0m in \u001b[0;36m<module>\u001b[1;34m()\u001b[0m\n\u001b[1;32m----> 1\u001b[1;33m \u001b[0mconnection\u001b[0m \u001b[1;33m=\u001b[0m \u001b[0mpymssql\u001b[0m\u001b[1;33m.\u001b[0m\u001b[0mconnect\u001b[0m\u001b[1;33m(\u001b[0m\u001b[0mserver\u001b[0m\u001b[1;33m=\u001b[0m\u001b[1;34m'127.0.0.1'\u001b[0m\u001b[1;33m,\u001b[0m \u001b[0mdatabase\u001b[0m\u001b[1;33m=\u001b[0m\u001b[1;34m'master'\u001b[0m\u001b[1;33m)\u001b[0m\u001b[1;33m\u001b[0m\u001b[0m\n\u001b[0m",
      "\u001b[1;32mpymssql.pyx\u001b[0m in \u001b[0;36mpymssql.connect (pymssql.c:10824)\u001b[1;34m()\u001b[0m\n",
      "\u001b[1;31mOperationalError\u001b[0m: (20009, b'DB-Lib error message 20009, severity 9:\\nUnable to connect: Adaptive Server is unavailable or does not exist (127.0.0.1:1433)\\nNet-Lib error during Unknown error (10060)\\n')"
     ]
    }
   ],
   "source": [
    "connection = pymssql.connect(server='127.0.0.1', database='master')"
   ]
  },
  {
   "cell_type": "code",
   "execution_count": null,
   "metadata": {
    "collapsed": true
   },
   "outputs": [],
   "source": []
  }
 ],
 "metadata": {
  "kernelspec": {
   "display_name": "Python 3",
   "language": "python",
   "name": "python3"
  },
  "language_info": {
   "codemirror_mode": {
    "name": "ipython",
    "version": 3
   },
   "file_extension": ".py",
   "mimetype": "text/x-python",
   "name": "python",
   "nbconvert_exporter": "python",
   "pygments_lexer": "ipython3",
   "version": "3.5.1"
  }
 },
 "nbformat": 4,
 "nbformat_minor": 0
}
